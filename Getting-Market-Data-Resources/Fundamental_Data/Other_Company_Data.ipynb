{
 "cells": [
  {
   "cell_type": "markdown",
   "metadata": {},
   "source": [
    "# Notebook Instructions\n",
    "\n",
    "1. All the <u>code and data files</u> used in this course are available in the downloadable unit of the <u>last section of this course</u>.\n",
    "2. You can run the notebook document sequentially (one cell at a time) by pressing **Shift + Enter**. \n",
    "3. While a cell is running, a [*] is shown on the left. After the cell is run, the output will appear on the next line.\n",
    "\n",
    "This course is based on specific versions of python packages. You can find the details of the packages in <a href='https://quantra.quantinsti.com/quantra-notebook' target=\"_blank\" >this manual</a>."
   ]
  },
  {
   "cell_type": "markdown",
   "metadata": {},
   "source": [
    "# Other Company Data\n",
    "\n",
    "In this notebook, you will learn to fetch other company data. The following data are fetched using the `yfinance` package:\n",
    "\n",
    "1. [Analyst Recommendations](#analyst)\n",
    "1. [Earnings Calendar](#calendar)\n",
    "1. [Corporate Actions](#actions)"
   ]
  },
  {
   "cell_type": "markdown",
   "metadata": {},
   "source": [
    "## Import Libraries"
   ]
  },
  {
   "cell_type": "code",
   "execution_count": 1,
   "metadata": {},
   "outputs": [],
   "source": [
    "# Import the yfinance library\n",
    "import yfinance as yf\n",
    "\n",
    "# Import data manipulation library\n",
    "import pandas as pd\n",
    "\n",
    "# Import matplotlib and set the style for plotting\n",
    "import matplotlib.pyplot as plt\n",
    "%matplotlib inline\n",
    "plt.style.use('seaborn-darkgrid')\n",
    "\n",
    "# Import time manipulation library\n",
    "from datetime import timedelta\n",
    "\n",
    "# Import the yahoo finance library for earnings calendar\n",
    "from yahoo_fin.stock_info import get_earnings_history\n",
    "\n",
    "# Ignore warnings\n",
    "import warnings\n",
    "warnings.filterwarnings(\"ignore\")"
   ]
  },
  {
   "cell_type": "markdown",
   "metadata": {},
   "source": [
    "## Define the Stock Ticker\n",
    "\n",
    "Define the stock ticker whose data will be fetched."
   ]
  },
  {
   "cell_type": "code",
   "execution_count": 2,
   "metadata": {},
   "outputs": [],
   "source": [
    "# Define the asset ticker for the company\n",
    "stock_ticker_symbol = 'AAPL'\n",
    "stock_ticker = yf.Ticker(stock_ticker_symbol)"
   ]
  },
  {
   "cell_type": "markdown",
   "metadata": {},
   "source": [
    "<a id='analyst'></a> \n",
    "## Analyst Recommendations\n",
    "\n",
    "The analyst recommendations are the views of the various investment bank/advisory firm for the selected stock ticker."
   ]
  },
  {
   "cell_type": "code",
   "execution_count": 3,
   "metadata": {},
   "outputs": [
    {
     "data": {
      "text/html": [
       "<div>\n",
       "<style scoped>\n",
       "    .dataframe tbody tr th:only-of-type {\n",
       "        vertical-align: middle;\n",
       "    }\n",
       "\n",
       "    .dataframe tbody tr th {\n",
       "        vertical-align: top;\n",
       "    }\n",
       "\n",
       "    .dataframe thead th {\n",
       "        text-align: right;\n",
       "    }\n",
       "</style>\n",
       "<table border=\"1\" class=\"dataframe\">\n",
       "  <thead>\n",
       "    <tr style=\"text-align: right;\">\n",
       "      <th></th>\n",
       "      <th>Firm</th>\n",
       "      <th>To Grade</th>\n",
       "      <th>From Grade</th>\n",
       "      <th>Action</th>\n",
       "    </tr>\n",
       "    <tr>\n",
       "      <th>Date</th>\n",
       "      <th></th>\n",
       "      <th></th>\n",
       "      <th></th>\n",
       "      <th></th>\n",
       "    </tr>\n",
       "  </thead>\n",
       "  <tbody>\n",
       "    <tr>\n",
       "      <th>2021-07-28 11:04:39</th>\n",
       "      <td>Barclays</td>\n",
       "      <td>Equal-Weight</td>\n",
       "      <td></td>\n",
       "      <td>main</td>\n",
       "    </tr>\n",
       "    <tr>\n",
       "      <th>2021-07-28 12:04:58</th>\n",
       "      <td>Morgan Stanley</td>\n",
       "      <td>Overweight</td>\n",
       "      <td></td>\n",
       "      <td>main</td>\n",
       "    </tr>\n",
       "    <tr>\n",
       "      <th>2021-07-28 12:30:58</th>\n",
       "      <td>Wells Fargo</td>\n",
       "      <td>Overweight</td>\n",
       "      <td></td>\n",
       "      <td>main</td>\n",
       "    </tr>\n",
       "    <tr>\n",
       "      <th>2021-07-28 13:19:21</th>\n",
       "      <td>Canaccord Genuity</td>\n",
       "      <td>Buy</td>\n",
       "      <td></td>\n",
       "      <td>main</td>\n",
       "    </tr>\n",
       "    <tr>\n",
       "      <th>2021-07-28 14:04:02</th>\n",
       "      <td>Piper Sandler</td>\n",
       "      <td>Overweight</td>\n",
       "      <td></td>\n",
       "      <td>main</td>\n",
       "    </tr>\n",
       "    <tr>\n",
       "      <th>2021-07-28 14:08:03</th>\n",
       "      <td>Deutsche Bank</td>\n",
       "      <td>Buy</td>\n",
       "      <td></td>\n",
       "      <td>main</td>\n",
       "    </tr>\n",
       "    <tr>\n",
       "      <th>2021-07-28 14:20:34</th>\n",
       "      <td>Loop Capital</td>\n",
       "      <td>Buy</td>\n",
       "      <td></td>\n",
       "      <td>main</td>\n",
       "    </tr>\n",
       "    <tr>\n",
       "      <th>2021-09-01 13:06:05</th>\n",
       "      <td>Wolfe Research</td>\n",
       "      <td>Peer Perform</td>\n",
       "      <td>Underperform</td>\n",
       "      <td>up</td>\n",
       "    </tr>\n",
       "    <tr>\n",
       "      <th>2021-09-09 13:49:40</th>\n",
       "      <td>Piper Sandler</td>\n",
       "      <td>Overweight</td>\n",
       "      <td></td>\n",
       "      <td>main</td>\n",
       "    </tr>\n",
       "    <tr>\n",
       "      <th>2021-09-22 16:07:34</th>\n",
       "      <td>Tigress Financial</td>\n",
       "      <td>Strong Buy</td>\n",
       "      <td></td>\n",
       "      <td>main</td>\n",
       "    </tr>\n",
       "  </tbody>\n",
       "</table>\n",
       "</div>"
      ],
      "text/plain": [
       "                                  Firm      To Grade    From Grade Action\n",
       "Date                                                                     \n",
       "2021-07-28 11:04:39           Barclays  Equal-Weight                 main\n",
       "2021-07-28 12:04:58     Morgan Stanley    Overweight                 main\n",
       "2021-07-28 12:30:58        Wells Fargo    Overweight                 main\n",
       "2021-07-28 13:19:21  Canaccord Genuity           Buy                 main\n",
       "2021-07-28 14:04:02      Piper Sandler    Overweight                 main\n",
       "2021-07-28 14:08:03      Deutsche Bank           Buy                 main\n",
       "2021-07-28 14:20:34       Loop Capital           Buy                 main\n",
       "2021-09-01 13:06:05     Wolfe Research  Peer Perform  Underperform     up\n",
       "2021-09-09 13:49:40      Piper Sandler    Overweight                 main\n",
       "2021-09-22 16:07:34  Tigress Financial    Strong Buy                 main"
      ]
     },
     "execution_count": 3,
     "metadata": {},
     "output_type": "execute_result"
    }
   ],
   "source": [
    "# Analyst recommendations\n",
    "analyst_recommendations = stock_ticker.get_recommendations()\n",
    "\n",
    "# Print the last 10 recommendations\n",
    "analyst_recommendations.tail(10)"
   ]
  },
  {
   "cell_type": "markdown",
   "metadata": {},
   "source": [
    "<a id='calendar'></a> \n",
    "## Earnings Calendar\n",
    "\n",
    "Earnings calendar is the schedule according to which various publicly-traded companies announce their earnings for a certain period such as a quarter or a year."
   ]
  },
  {
   "cell_type": "code",
   "execution_count": 4,
   "metadata": {},
   "outputs": [
    {
     "name": "stdout",
     "output_type": "stream",
     "text": [
      "Dates for last 4 earnings report AAPL     \n",
      "2021-07-27, 2021-04-28, 2021-01-27, 2020-10-29\n",
      "\n",
      "\n",
      "Upcoming earnings announcement date for AAPL     \n",
      "2022-07-25, 2022-04-26, 2022-01-25, 2021-10-27\n"
     ]
    }
   ],
   "source": [
    "# Fetch the earnings calendar of the stock and store it in a DataFrame\n",
    "earnings_list = get_earnings_history(stock_ticker_symbol)\n",
    "earnings_calendar = pd.DataFrame(earnings_list).dropna().head(4)[['startdatetime']]\n",
    "earnings_calendar.startdatetime = pd.to_datetime(earnings_calendar.startdatetime).dt.strftime('%Y-%m-%d')\n",
    "\n",
    "# Future earnings announcement dates\n",
    "upcoming_calendar = pd.DataFrame(earnings_list).head(4)[['startdatetime']]\n",
    "upcoming_calendar.startdatetime = pd.to_datetime(upcoming_calendar.startdatetime).dt.strftime('%Y-%m-%d')\n",
    "\n",
    "# Preview the last 4 quarters\n",
    "print(f\"Dates for last 4 earnings report {stock_ticker_symbol} \\\n",
    "    \\n{', '.join(earnings_calendar.startdatetime)}\")\n",
    "\n",
    "# Print the future earnings announcement date\n",
    "print(f\"\\n\\nUpcoming earnings announcement date for {stock_ticker_symbol} \\\n",
    "    \\n{', '.join(upcoming_calendar.startdatetime)}\")"
   ]
  },
  {
   "cell_type": "markdown",
   "metadata": {},
   "source": [
    "<a id='actions'></a> \n",
    "## Corporate Actions\n",
    "\n",
    "A corporate action is any activity that a company does which brings material impact to its stakeholders. Common corporate actions include the payment of dividends and stock splits.\n",
    "\n",
    "Dividends are the distribution of a company's earnings to its shareholders. A stock split is an action by which, the number of shares of a company is increased by a specified multiple, while the share price is decreased by the same factor as the multiple."
   ]
  },
  {
   "cell_type": "code",
   "execution_count": 5,
   "metadata": {},
   "outputs": [
    {
     "name": "stdout",
     "output_type": "stream",
     "text": [
      "Last 10 corporate actions \n",
      "            Dividends  Stock Splits\n",
      "Date                               \n",
      "2019-08-09     0.1925           0.0\n",
      "2019-11-07     0.1925           0.0\n",
      "2020-02-07     0.1925           0.0\n",
      "2020-05-08     0.2050           0.0\n",
      "2020-08-07     0.2050           0.0\n",
      "2020-08-31     0.0000           4.0\n",
      "2020-11-06     0.2050           0.0\n",
      "2021-02-05     0.2050           0.0\n",
      "2021-05-07     0.2200           0.0\n",
      "2021-08-06     0.2200           0.0\n"
     ]
    },
    {
     "data": {
      "image/png": "[encoded data removed]",
      "text/plain": [
       "<Figure size 1080x720 with 2 Axes>"
      ]
     },
     "metadata": {},
     "output_type": "display_data"
    }
   ],
   "source": [
    "# Corporate actions\n",
    "corporate_actions = stock_ticker.get_actions()\n",
    "\n",
    "# Print the last 10 corporate actions\n",
    "print(f\"Last 10 corporate actions \\n{corporate_actions.tail(10)}\")\n",
    "\n",
    "# Plot the net income and revenue for the last 3 years\n",
    "data_to_plot = corporate_actions.tail(12)\n",
    "\n",
    "# Define the plot figure\n",
    "fig = plt.figure(figsize=(15, 10))\n",
    "ax1 = fig.add_subplot(211)\n",
    "ax2 = fig.add_subplot(212)\n",
    "width = 0.2\n",
    "\n",
    "# Plot the data\n",
    "(data_to_plot['Dividends'] * 100).plot(kind='bar', color='blue', ax=ax1, width=width, position=1)\n",
    "data_to_plot['Stock Splits'].plot(kind='bar', color='red', ax=ax2, width=width, position=0)\n",
    "\n",
    "# Set title and labels for the plot\n",
    "ax1.set_ylabel('Dividends (%)', fontsize=12)\n",
    "ax2.set_ylabel('Stock Splits (Ratio)', fontsize=12)\n",
    "ax1.set_title('Dividends', fontsize=14)\n",
    "ax2.set_title('Stock Splits', fontsize=14)\n",
    "ax1.legend(loc=2)\n",
    "ax2.legend(loc=2)\n",
    "plt.tight_layout()\n",
    "plt.show()"
   ]
  },
  {
   "cell_type": "markdown",
   "metadata": {},
   "source": [
    "As we can see from the trend, dividends are more common than stock splits. This is because dividends are usually paid every quarter whereas stock splits require special approval from the company's board of directors.\n",
    "\n",
    "In the upcoming unit, you can refer to additional sources of fundamental stock data. <br><br>"
   ]
  }
 ],
 "metadata": {
  "kernelspec": {
   "display_name": "Python 3 (ipykernel)",
   "language": "python",
   "name": "python3"
  },
  "language_info": {
   "codemirror_mode": {
    "name": "ipython",
    "version": 3
   },
   "file_extension": ".py",
   "mimetype": "text/x-python",
   "name": "python",
   "nbconvert_exporter": "python",
   "pygments_lexer": "ipython3",
   "version": "3.9.5"
  }
 },
 "nbformat": 4,
 "nbformat_minor": 4
}
