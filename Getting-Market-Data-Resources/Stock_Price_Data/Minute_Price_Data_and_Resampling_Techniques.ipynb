{
 "cells": [
  {
   "cell_type": "markdown",
   "metadata": {
    "id": "xzWfrLupD298"
   },
   "source": [
    "# Notebook Instructions\n",
    "\n",
    "1. All the <u>code and data files</u> used in this course are available in the downloadable unit of the <u>last section of this course</u>.\n",
    "2. You can run the notebook document sequentially (one cell at a time) by pressing **shift + enter**. \n",
    "3. While a cell is running, a [*] is shown on the left. After the cell is run, the output will appear on the next line.\n",
    "\n",
    "This course is based on specific versions of python packages. You can find the details of the packages in <a href='https://quantra.quantinsti.com/quantra-notebook' target=\"_blank\" >this manual</a>."
   ]
  },
  {
   "cell_type": "markdown",
   "metadata": {
    "id": "wdZ_MadMnnyi"
   },
   "source": [
    "## Minute Price Data & Resampling Techniques\n",
    "\n",
    "So far you have learnt how to download the data points for every day. But sometimes you might need more granularity to test your strategies like a data point for each hour, every 30 minutes or even each minute. In this notebook, you will learn how to download minute level data and how to resample them into different time frames such as 15 minutes and 1 hour. An important point to note here is, you can resample high frequency data to low frequency data, but not the other way round.\n",
    "\n",
    "You will perform the following steps:\n",
    "1. [Download Minute Data](#minute-data)\n",
    "2. [Resample Data](#resample-data)\n",
    "\n",
    "## Import Libraries"
   ]
  },
  {
   "cell_type": "code",
   "execution_count": 1,
   "metadata": {},
   "outputs": [],
   "source": [
    "# To fetch financial data\n",
    "import yfinance as yf\n",
    "\n",
    "# For visualisation\n",
    "import matplotlib.pyplot as plt\n",
    "%matplotlib inline\n",
    "plt.style.use('seaborn-darkgrid')"
   ]
  },
  {
   "cell_type": "markdown",
   "metadata": {},
   "source": [
    "<a id='minute-data'></a> \n",
    "## Download Minute Data\n",
    "\n",
    "The `download` method of `yfinance` has parameters `period` and `interval`. You can play around with these parameters to download data for different periods and intervals.\n",
    "\n",
    "You can download the minute data for up to seven days from Yahoo! Finance. The syntax for downloading the minute data of an asset for 5 days is as below:\n",
    "```python\n",
    "yf.download(tickers, period=\"5d\", interval=\"1m\", auto_adjust=True)\n",
    "```\n",
    "\n",
    "Parameters:\n",
    "1. **ticker:** Ticker of the asset.\n",
    "2. **period:** This is the number of days/month of data required. The valid frequencies are `1d, 5d, 1mo, 3mo, 6mo, 1y, 2y, 5y, 10y, ytd, max`.\n",
    "3. **interval:** This is the frequency of data. The valid intervals are `1m, 2m, 5m, 15m, 30m, 60m, 90m, 1h, 1d, 5d, 1wk, 1mo, 3mo`.\n",
    "4. **auto_adjust:** `True` to download adjusted data, else `False`."
   ]
  },
  {
   "cell_type": "code",
   "execution_count": 2,
   "metadata": {
    "id": "bEjU_f9innyi",
    "outputId": "9feb3a25-5adf-4e37-c86b-ce57bcd9c8ac"
   },
   "outputs": [
    {
     "name": "stdout",
     "output_type": "stream",
     "text": [
      "[*********************100%***********************]  1 of 1 completed\n"
     ]
    },
    {
     "data": {
      "text/html": [
       "<div>\n",
       "<style scoped>\n",
       "    .dataframe tbody tr th:only-of-type {\n",
       "        vertical-align: middle;\n",
       "    }\n",
       "\n",
       "    .dataframe tbody tr th {\n",
       "        vertical-align: top;\n",
       "    }\n",
       "\n",
       "    .dataframe thead th {\n",
       "        text-align: right;\n",
       "    }\n",
       "</style>\n",
       "<table border=\"1\" class=\"dataframe\">\n",
       "  <thead>\n",
       "    <tr style=\"text-align: right;\">\n",
       "      <th></th>\n",
       "      <th>Open</th>\n",
       "      <th>High</th>\n",
       "      <th>Low</th>\n",
       "      <th>Close</th>\n",
       "      <th>Volume</th>\n",
       "    </tr>\n",
       "    <tr>\n",
       "      <th>Datetime</th>\n",
       "      <th></th>\n",
       "      <th></th>\n",
       "      <th></th>\n",
       "      <th></th>\n",
       "      <th></th>\n",
       "    </tr>\n",
       "  </thead>\n",
       "  <tbody>\n",
       "    <tr>\n",
       "      <th>2021-07-22 09:30:00-04:00</th>\n",
       "      <td>146.250000</td>\n",
       "      <td>146.250000</td>\n",
       "      <td>146.220001</td>\n",
       "      <td>146.220001</td>\n",
       "      <td>2351346</td>\n",
       "    </tr>\n",
       "    <tr>\n",
       "      <th>2021-07-22 09:31:00-04:00</th>\n",
       "      <td>146.210800</td>\n",
       "      <td>146.460007</td>\n",
       "      <td>146.130005</td>\n",
       "      <td>146.339996</td>\n",
       "      <td>565950</td>\n",
       "    </tr>\n",
       "    <tr>\n",
       "      <th>2021-07-22 09:32:00-04:00</th>\n",
       "      <td>146.350006</td>\n",
       "      <td>146.619995</td>\n",
       "      <td>146.320007</td>\n",
       "      <td>146.619995</td>\n",
       "      <td>539724</td>\n",
       "    </tr>\n",
       "    <tr>\n",
       "      <th>2021-07-22 09:33:00-04:00</th>\n",
       "      <td>146.600006</td>\n",
       "      <td>146.740005</td>\n",
       "      <td>146.570007</td>\n",
       "      <td>146.646500</td>\n",
       "      <td>441883</td>\n",
       "    </tr>\n",
       "    <tr>\n",
       "      <th>2021-07-22 09:34:00-04:00</th>\n",
       "      <td>146.632797</td>\n",
       "      <td>146.669998</td>\n",
       "      <td>146.250000</td>\n",
       "      <td>146.309998</td>\n",
       "      <td>413032</td>\n",
       "    </tr>\n",
       "  </tbody>\n",
       "</table>\n",
       "</div>"
      ],
      "text/plain": [
       "                                 Open        High         Low       Close  \\\n",
       "Datetime                                                                    \n",
       "2021-07-22 09:30:00-04:00  146.250000  146.250000  146.220001  146.220001   \n",
       "2021-07-22 09:31:00-04:00  146.210800  146.460007  146.130005  146.339996   \n",
       "2021-07-22 09:32:00-04:00  146.350006  146.619995  146.320007  146.619995   \n",
       "2021-07-22 09:33:00-04:00  146.600006  146.740005  146.570007  146.646500   \n",
       "2021-07-22 09:34:00-04:00  146.632797  146.669998  146.250000  146.309998   \n",
       "\n",
       "                            Volume  \n",
       "Datetime                            \n",
       "2021-07-22 09:30:00-04:00  2351346  \n",
       "2021-07-22 09:31:00-04:00   565950  \n",
       "2021-07-22 09:32:00-04:00   539724  \n",
       "2021-07-22 09:33:00-04:00   441883  \n",
       "2021-07-22 09:34:00-04:00   413032  "
      ]
     },
     "execution_count": 2,
     "metadata": {},
     "output_type": "execute_result"
    }
   ],
   "source": [
    "# Download the minute data for Apple\n",
    "apple_minute_data = yf.download(tickers=\"AAPL\", period=\"5d\", interval=\"1m\", auto_adjust=True)\n",
    "\n",
    "# Dispaly the first 5 rows\n",
    "apple_minute_data.head()"
   ]
  },
  {
   "cell_type": "markdown",
   "metadata": {
    "id": "nZoXqDiMnnyj"
   },
   "source": [
    "<a id='resample-data'></a> \n",
    "## Resample Data\n",
    "\n",
    "During strategy modelling, you might be required to work with a custom frequency of stock market data such as 15 minutes or 1 hour or even 1 month. If you have minute level data, then you can easily construct the 15 minutes, 1 hour or daily candles by resampling them. Thus, you don't have to buy them separately.\n",
    "\n",
    "In this case, you can use the pandas `resample()` method to convert the stock data to the frequency of your choice.\n",
    "\n",
    "The first step is to define the dictionary with the conversion logic. For example, to get the open value the first value will be used, to get the high value the maximum value will be used and so on. The name `Open`, `High`, `Low`, `Close` and `Volume` should match the column names in your dataframe."
   ]
  },
  {
   "cell_type": "code",
   "execution_count": 3,
   "metadata": {
    "id": "30BJOARdnnyj"
   },
   "outputs": [],
   "source": [
    "# Aggregate function\n",
    "ohlcv_dict = {'Open': 'first',\n",
    "              'High': 'max',\n",
    "              'Low': 'min',\n",
    "              'Close': 'last',\n",
    "              'Volume': 'sum'\n",
    "             }"
   ]
  },
  {
   "cell_type": "markdown",
   "metadata": {
    "id": "APPueoC6D2-A"
   },
   "source": [
    "You can now use the `resample()` method to resample the data to the desired frequency.\n",
    "\n",
    "Syntax:\n",
    "```python\n",
    "DataFrame.resample(interval).agg(aggregate)\n",
    "```\n",
    "\n",
    "Parameters:\n",
    "1. **interval:** Resampling interval such as 15T for 15 minutes (H is for hour, D is for days, M is for months)\n",
    "2. **aggregate:** Dictionary with aggregating values to be used while resampling\n",
    "\n",
    "Returns: <br>\n",
    "Resampled dataframe\n",
    "\n",
    "### Resample minute data to 15 minutes data"
   ]
  },
  {
   "cell_type": "code",
   "execution_count": 4,
   "metadata": {
    "id": "VDwsXfTFnnyk",
    "outputId": "c2e4bb84-339e-405b-917f-a8767e4195a5"
   },
   "outputs": [
    {
     "data": {
      "text/html": [
       "<div>\n",
       "<style scoped>\n",
       "    .dataframe tbody tr th:only-of-type {\n",
       "        vertical-align: middle;\n",
       "    }\n",
       "\n",
       "    .dataframe tbody tr th {\n",
       "        vertical-align: top;\n",
       "    }\n",
       "\n",
       "    .dataframe thead th {\n",
       "        text-align: right;\n",
       "    }\n",
       "</style>\n",
       "<table border=\"1\" class=\"dataframe\">\n",
       "  <thead>\n",
       "    <tr style=\"text-align: right;\">\n",
       "      <th></th>\n",
       "      <th>Open</th>\n",
       "      <th>High</th>\n",
       "      <th>Low</th>\n",
       "      <th>Close</th>\n",
       "      <th>Volume</th>\n",
       "    </tr>\n",
       "    <tr>\n",
       "      <th>Datetime</th>\n",
       "      <th></th>\n",
       "      <th></th>\n",
       "      <th></th>\n",
       "      <th></th>\n",
       "      <th></th>\n",
       "    </tr>\n",
       "  </thead>\n",
       "  <tbody>\n",
       "    <tr>\n",
       "      <th>2021-07-22 09:30:00-04:00</th>\n",
       "      <td>146.250000</td>\n",
       "      <td>146.740005</td>\n",
       "      <td>145.809998</td>\n",
       "      <td>146.570007</td>\n",
       "      <td>7761204</td>\n",
       "    </tr>\n",
       "    <tr>\n",
       "      <th>2021-07-22 09:45:00-04:00</th>\n",
       "      <td>146.570007</td>\n",
       "      <td>147.000000</td>\n",
       "      <td>146.250000</td>\n",
       "      <td>146.830002</td>\n",
       "      <td>10875671</td>\n",
       "    </tr>\n",
       "    <tr>\n",
       "      <th>2021-07-22 10:00:00-04:00</th>\n",
       "      <td>146.830002</td>\n",
       "      <td>147.229996</td>\n",
       "      <td>146.820007</td>\n",
       "      <td>147.160004</td>\n",
       "      <td>4009837</td>\n",
       "    </tr>\n",
       "    <tr>\n",
       "      <th>2021-07-22 10:15:00-04:00</th>\n",
       "      <td>147.167496</td>\n",
       "      <td>147.550003</td>\n",
       "      <td>146.981995</td>\n",
       "      <td>147.464996</td>\n",
       "      <td>3750507</td>\n",
       "    </tr>\n",
       "    <tr>\n",
       "      <th>2021-07-22 10:30:00-04:00</th>\n",
       "      <td>147.470001</td>\n",
       "      <td>147.970001</td>\n",
       "      <td>147.330002</td>\n",
       "      <td>147.748703</td>\n",
       "      <td>3847961</td>\n",
       "    </tr>\n",
       "  </tbody>\n",
       "</table>\n",
       "</div>"
      ],
      "text/plain": [
       "                                 Open        High         Low       Close  \\\n",
       "Datetime                                                                    \n",
       "2021-07-22 09:30:00-04:00  146.250000  146.740005  145.809998  146.570007   \n",
       "2021-07-22 09:45:00-04:00  146.570007  147.000000  146.250000  146.830002   \n",
       "2021-07-22 10:00:00-04:00  146.830002  147.229996  146.820007  147.160004   \n",
       "2021-07-22 10:15:00-04:00  147.167496  147.550003  146.981995  147.464996   \n",
       "2021-07-22 10:30:00-04:00  147.470001  147.970001  147.330002  147.748703   \n",
       "\n",
       "                             Volume  \n",
       "Datetime                             \n",
       "2021-07-22 09:30:00-04:00   7761204  \n",
       "2021-07-22 09:45:00-04:00  10875671  \n",
       "2021-07-22 10:00:00-04:00   4009837  \n",
       "2021-07-22 10:15:00-04:00   3750507  \n",
       "2021-07-22 10:30:00-04:00   3847961  "
      ]
     },
     "execution_count": 4,
     "metadata": {},
     "output_type": "execute_result"
    }
   ],
   "source": [
    "# Resample data to 15 minutes data\n",
    "apple_minute_data_15M = apple_minute_data.resample('15T').agg(ohlcv_dict)\n",
    "\n",
    "# Drop the missing values\n",
    "apple_minute_data_15M.dropna(inplace=True)\n",
    "\n",
    "# Display the first 5 rows\n",
    "apple_minute_data_15M.head()"
   ]
  },
  {
   "cell_type": "markdown",
   "metadata": {},
   "source": [
    "### Resample minute data to 1 hour data"
   ]
  },
  {
   "cell_type": "code",
   "execution_count": 5,
   "metadata": {
    "id": "vOZ_UarVnnyk",
    "outputId": "9c71dc1d-6c9a-49c1-c870-83f760dcb59f"
   },
   "outputs": [
    {
     "data": {
      "text/html": [
       "<div>\n",
       "<style scoped>\n",
       "    .dataframe tbody tr th:only-of-type {\n",
       "        vertical-align: middle;\n",
       "    }\n",
       "\n",
       "    .dataframe tbody tr th {\n",
       "        vertical-align: top;\n",
       "    }\n",
       "\n",
       "    .dataframe thead th {\n",
       "        text-align: right;\n",
       "    }\n",
       "</style>\n",
       "<table border=\"1\" class=\"dataframe\">\n",
       "  <thead>\n",
       "    <tr style=\"text-align: right;\">\n",
       "      <th></th>\n",
       "      <th>Open</th>\n",
       "      <th>High</th>\n",
       "      <th>Low</th>\n",
       "      <th>Close</th>\n",
       "      <th>Volume</th>\n",
       "    </tr>\n",
       "    <tr>\n",
       "      <th>Datetime</th>\n",
       "      <th></th>\n",
       "      <th></th>\n",
       "      <th></th>\n",
       "      <th></th>\n",
       "      <th></th>\n",
       "    </tr>\n",
       "  </thead>\n",
       "  <tbody>\n",
       "    <tr>\n",
       "      <th>2021-07-22 09:00:00-04:00</th>\n",
       "      <td>146.250000</td>\n",
       "      <td>147.000000</td>\n",
       "      <td>145.809998</td>\n",
       "      <td>146.830002</td>\n",
       "      <td>18636875</td>\n",
       "    </tr>\n",
       "    <tr>\n",
       "      <th>2021-07-22 10:00:00-04:00</th>\n",
       "      <td>146.830002</td>\n",
       "      <td>147.970001</td>\n",
       "      <td>146.820007</td>\n",
       "      <td>147.740005</td>\n",
       "      <td>14395374</td>\n",
       "    </tr>\n",
       "    <tr>\n",
       "      <th>2021-07-22 11:00:00-04:00</th>\n",
       "      <td>147.735001</td>\n",
       "      <td>148.195007</td>\n",
       "      <td>147.130005</td>\n",
       "      <td>147.330994</td>\n",
       "      <td>11231202</td>\n",
       "    </tr>\n",
       "    <tr>\n",
       "      <th>2021-07-22 12:00:00-04:00</th>\n",
       "      <td>147.330002</td>\n",
       "      <td>147.440002</td>\n",
       "      <td>146.660004</td>\n",
       "      <td>147.210007</td>\n",
       "      <td>7119039</td>\n",
       "    </tr>\n",
       "    <tr>\n",
       "      <th>2021-07-22 13:00:00-04:00</th>\n",
       "      <td>147.199997</td>\n",
       "      <td>147.669998</td>\n",
       "      <td>147.151993</td>\n",
       "      <td>147.221100</td>\n",
       "      <td>5477604</td>\n",
       "    </tr>\n",
       "  </tbody>\n",
       "</table>\n",
       "</div>"
      ],
      "text/plain": [
       "                                 Open        High         Low       Close  \\\n",
       "Datetime                                                                    \n",
       "2021-07-22 09:00:00-04:00  146.250000  147.000000  145.809998  146.830002   \n",
       "2021-07-22 10:00:00-04:00  146.830002  147.970001  146.820007  147.740005   \n",
       "2021-07-22 11:00:00-04:00  147.735001  148.195007  147.130005  147.330994   \n",
       "2021-07-22 12:00:00-04:00  147.330002  147.440002  146.660004  147.210007   \n",
       "2021-07-22 13:00:00-04:00  147.199997  147.669998  147.151993  147.221100   \n",
       "\n",
       "                             Volume  \n",
       "Datetime                             \n",
       "2021-07-22 09:00:00-04:00  18636875  \n",
       "2021-07-22 10:00:00-04:00  14395374  \n",
       "2021-07-22 11:00:00-04:00  11231202  \n",
       "2021-07-22 12:00:00-04:00   7119039  \n",
       "2021-07-22 13:00:00-04:00   5477604  "
      ]
     },
     "execution_count": 5,
     "metadata": {},
     "output_type": "execute_result"
    }
   ],
   "source": [
    "# Resample data to 1 hour data\n",
    "apple_minute_data_1H = apple_minute_data.resample('1H').agg(ohlcv_dict)\n",
    "\n",
    "# Drop the missing values\n",
    "apple_minute_data_1H.dropna(inplace=True)\n",
    "\n",
    "# Display the first 5 rows\n",
    "apple_minute_data_1H.head()"
   ]
  },
  {
   "cell_type": "markdown",
   "metadata": {},
   "source": [
    "### Resample minute data to 4 hours data"
   ]
  },
  {
   "cell_type": "code",
   "execution_count": 6,
   "metadata": {
    "id": "Fg3dMJ-Ynnyk",
    "outputId": "abcae89e-32af-4df9-baae-0568bf857a7b"
   },
   "outputs": [
    {
     "data": {
      "text/html": [
       "<div>\n",
       "<style scoped>\n",
       "    .dataframe tbody tr th:only-of-type {\n",
       "        vertical-align: middle;\n",
       "    }\n",
       "\n",
       "    .dataframe tbody tr th {\n",
       "        vertical-align: top;\n",
       "    }\n",
       "\n",
       "    .dataframe thead th {\n",
       "        text-align: right;\n",
       "    }\n",
       "</style>\n",
       "<table border=\"1\" class=\"dataframe\">\n",
       "  <thead>\n",
       "    <tr style=\"text-align: right;\">\n",
       "      <th></th>\n",
       "      <th>Open</th>\n",
       "      <th>High</th>\n",
       "      <th>Low</th>\n",
       "      <th>Close</th>\n",
       "      <th>Volume</th>\n",
       "    </tr>\n",
       "    <tr>\n",
       "      <th>Datetime</th>\n",
       "      <th></th>\n",
       "      <th></th>\n",
       "      <th></th>\n",
       "      <th></th>\n",
       "      <th></th>\n",
       "    </tr>\n",
       "  </thead>\n",
       "  <tbody>\n",
       "    <tr>\n",
       "      <th>2021-07-22 08:00:00-04:00</th>\n",
       "      <td>146.250000</td>\n",
       "      <td>148.195007</td>\n",
       "      <td>145.809998</td>\n",
       "      <td>147.330994</td>\n",
       "      <td>44263451</td>\n",
       "    </tr>\n",
       "    <tr>\n",
       "      <th>2021-07-22 12:00:00-04:00</th>\n",
       "      <td>147.330002</td>\n",
       "      <td>147.669998</td>\n",
       "      <td>146.479996</td>\n",
       "      <td>146.800003</td>\n",
       "      <td>26645591</td>\n",
       "    </tr>\n",
       "    <tr>\n",
       "      <th>2021-07-23 08:00:00-04:00</th>\n",
       "      <td>147.550003</td>\n",
       "      <td>148.270004</td>\n",
       "      <td>147.000000</td>\n",
       "      <td>148.100006</td>\n",
       "      <td>38591027</td>\n",
       "    </tr>\n",
       "    <tr>\n",
       "      <th>2021-07-23 12:00:00-04:00</th>\n",
       "      <td>148.100006</td>\n",
       "      <td>148.717697</td>\n",
       "      <td>147.850006</td>\n",
       "      <td>148.570007</td>\n",
       "      <td>27803214</td>\n",
       "    </tr>\n",
       "    <tr>\n",
       "      <th>2021-07-26 08:00:00-04:00</th>\n",
       "      <td>148.270004</td>\n",
       "      <td>149.830002</td>\n",
       "      <td>147.779999</td>\n",
       "      <td>149.500000</td>\n",
       "      <td>37945374</td>\n",
       "    </tr>\n",
       "  </tbody>\n",
       "</table>\n",
       "</div>"
      ],
      "text/plain": [
       "                                 Open        High         Low       Close  \\\n",
       "Datetime                                                                    \n",
       "2021-07-22 08:00:00-04:00  146.250000  148.195007  145.809998  147.330994   \n",
       "2021-07-22 12:00:00-04:00  147.330002  147.669998  146.479996  146.800003   \n",
       "2021-07-23 08:00:00-04:00  147.550003  148.270004  147.000000  148.100006   \n",
       "2021-07-23 12:00:00-04:00  148.100006  148.717697  147.850006  148.570007   \n",
       "2021-07-26 08:00:00-04:00  148.270004  149.830002  147.779999  149.500000   \n",
       "\n",
       "                             Volume  \n",
       "Datetime                             \n",
       "2021-07-22 08:00:00-04:00  44263451  \n",
       "2021-07-22 12:00:00-04:00  26645591  \n",
       "2021-07-23 08:00:00-04:00  38591027  \n",
       "2021-07-23 12:00:00-04:00  27803214  \n",
       "2021-07-26 08:00:00-04:00  37945374  "
      ]
     },
     "execution_count": 6,
     "metadata": {},
     "output_type": "execute_result"
    }
   ],
   "source": [
    "# Resample data to 4 hours data\n",
    "apple_minute_data_4H = apple_minute_data.resample('4H').agg(ohlcv_dict)\n",
    "\n",
    "# Drop the missing values\n",
    "apple_minute_data_4H.dropna(inplace=True)\n",
    "\n",
    "# Display the first 5 rows\n",
    "apple_minute_data_4H.head()"
   ]
  },
  {
   "cell_type": "markdown",
   "metadata": {
    "id": "eIR76DhxD2-C"
   },
   "source": [
    "## Tweak the code\n",
    "\n",
    "You can tweak the code in the following ways:\n",
    "\n",
    "1. Use different asset other than the `AAPL` of your choice and download the data.\n",
    "2. Use a different time interval to resample the data.\n",
    "<br><br>"
   ]
  }
 ],
 "metadata": {
  "colab": {
   "collapsed_sections": [],
   "name": "Minute Price Data & Resampling Techniques.ipynb",
   "provenance": []
  },
  "kernelspec": {
   "display_name": "Python 3",
   "language": "python",
   "name": "python3"
  },
  "language_info": {
   "codemirror_mode": {
    "name": "ipython",
    "version": 3
   },
   "file_extension": ".py",
   "mimetype": "text/x-python",
   "name": "python",
   "nbconvert_exporter": "python",
   "pygments_lexer": "ipython3",
   "version": "3.9.5"
  }
 },
 "nbformat": 4,
 "nbformat_minor": 4
}
